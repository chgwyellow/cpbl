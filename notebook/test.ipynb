{
 "cells": [
  {
   "cell_type": "code",
   "execution_count": null,
   "id": "5ec98cd5",
   "metadata": {},
   "outputs": [],
   "source": [
    "from src.scraping.config import HEADERS, URL_HITTER, URL_PITCHER, URL_POST\n",
    "import requests\n",
    "from bs4 import BeautifulSoup"
   ]
  },
  {
   "cell_type": "code",
   "execution_count": null,
   "id": "2a5b04d8",
   "metadata": {},
   "outputs": [],
   "source": [
    "# Get _RequestVerificationToken\n",
    "session = requests.Session()\n",
    "res = session.get(URL_HITTER, headers=HEADERS)\n",
    "if res.status_code == 200:\n",
    "    soup = BeautifulSoup(res.text, \"html.parser\")\n",
    "    print(res.status_code)\n",
    "else:\n",
    "    print(res.status_code)\n",
    "    \n",
    "token = soup.find(\"input\", {\"name\": \"__RequestVerificationToken\"})[\"value\"]"
   ]
  },
  {
   "cell_type": "code",
   "execution_count": null,
   "id": "8bfbd71a",
   "metadata": {},
   "outputs": [],
   "source": [
    "# 取得th tag，也就是欄位名稱\n",
    "columns = [th.get_text(strip=True) for th in soup.select(\"tr th\")]\n",
    "columns[0] = \"球員\"\n",
    "columns"
   ]
  },
  {
   "cell_type": "code",
   "execution_count": null,
   "id": "446c7d61",
   "metadata": {},
   "outputs": [],
   "source": [
    "# 爬取從第2頁開始的打者資料\n",
    "max_pages = 200\n",
    "year = 2025\n",
    "hitters = []\n",
    "for page in range(1, max_pages):\n",
    "    \n",
    "    payload = {\n",
    "        \"__RequestVerificationToken\": token,\n",
    "        \"ExecAction\": \"Q\",\n",
    "        \"IndexOfPages\": str(page),\n",
    "        \"Sortby\": \"9\",\n",
    "        \"KindCode\": \"A\",\n",
    "        \"Year\": str(year),\n",
    "        \"Online\": \"01\",\n",
    "        \"Position\": \"01\",\n",
    "        \"DefenceType\": \"99\",\n",
    "        \"PageSize\": \"15\"\n",
    "    }\n",
    "    \n",
    "    res = session.post(URL_POST, headers=HEADERS, data=payload, allow_redirects=False)\n",
    "    soup = BeautifulSoup(res.text, \"html.parser\")\n",
    "    \n",
    "    # 判斷是否有資料\n",
    "    tds = soup.select(\"tr td\")\n",
    "    if not tds:\n",
    "        print(f\"No more data at page {page}, stop.\")\n",
    "        break\n",
    "    \n",
    "    # 解析資料\n",
    "    for td in tds:\n",
    "        hitters.append(td.get_text(strip=True))\n",
    "\n",
    "hitters = [hitters[i: i + 33] for i in range(0, len(hitters), 33)]  \n",
    "hitters"
   ]
  }
 ],
 "metadata": {
  "kernelspec": {
   "display_name": "cpbl-UDPvb4Tr-py3.13",
   "language": "python",
   "name": "python3"
  },
  "language_info": {
   "codemirror_mode": {
    "name": "ipython",
    "version": 3
   },
   "file_extension": ".py",
   "mimetype": "text/x-python",
   "name": "python",
   "nbconvert_exporter": "python",
   "pygments_lexer": "ipython3",
   "version": "3.13.8"
  }
 },
 "nbformat": 4,
 "nbformat_minor": 5
}
